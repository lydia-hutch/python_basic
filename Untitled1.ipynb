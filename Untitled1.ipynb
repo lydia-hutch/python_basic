{
 "cells": [
  {
   "cell_type": "code",
   "execution_count": 5,
   "id": "88260384-4ad7-4c77-a247-69e1859570dc",
   "metadata": {},
   "outputs": [
    {
     "name": "stdout",
     "output_type": "stream",
     "text": [
      "Enter your pet type\n"
     ]
    },
    {
     "name": "stdin",
     "output_type": "stream",
     "text": [
      " cat\n"
     ]
    },
    {
     "name": "stdout",
     "output_type": "stream",
     "text": [
      "Yes, I have the pet type cat\n"
     ]
    }
   ],
   "source": [
    "mylist = ['cat','dog','rat']\n",
    "\n",
    "print(\"Enter your pet type\")\n",
    "       \n",
    "name = input()\n",
    "\n",
    "if name in mylist:\n",
    "    print(\"Yes, I have the pet type\", name)\n",
    "else:\n",
    "    print(\"No, I do not have the pet\", name)"
   ]
  },
  {
   "cell_type": "code",
   "execution_count": 9,
   "id": "5bf47ff9-5d81-47da-8120-08f43873b7b6",
   "metadata": {},
   "outputs": [
    {
     "name": "stdout",
     "output_type": "stream",
     "text": [
      "index is 0 and value is  cat\n",
      "index is 1 and value is  dog\n",
      "index is 2 and value is  rat\n"
     ]
    }
   ],
   "source": [
    "mylist = ['cat','dog','rat'] \n",
    "\n",
    "for i in range(len(mylist)):\n",
    "    print('index is', i, 'and', 'value is ', mylist[i])\n",
    "\n",
    "\n"
   ]
  },
  {
   "cell_type": "code",
   "execution_count": 11,
   "id": "e6464ef3-4fb7-4198-a22a-7108104dcd94",
   "metadata": {},
   "outputs": [
    {
     "name": "stdout",
     "output_type": "stream",
     "text": [
      "index 0 value is cat\n",
      "index 1 value is dog\n",
      "index 2 value is rat\n"
     ]
    }
   ],
   "source": [
    "for index, item in enumerate(mylist):\n",
    "    print(\"index\", str(index), 'value is', item)"
   ]
  },
  {
   "cell_type": "code",
   "execution_count": 13,
   "id": "7433d022-e74e-4884-9546-3d6ed0b8b8ba",
   "metadata": {},
   "outputs": [
    {
     "name": "stdout",
     "output_type": "stream",
     "text": [
      "item cat\n",
      "item dog\n",
      "item rat\n"
     ]
    }
   ],
   "source": [
    "for item in mylist:\n",
    "    print('item', item)"
   ]
  },
  {
   "cell_type": "code",
   "execution_count": 15,
   "id": "be9a07da-b76c-4385-a163-8ce8a7c48e92",
   "metadata": {},
   "outputs": [],
   "source": [
    "sumvalue = []\n",
    "\n",
    "for i in range(1,101):\n",
    "    sumvalue.append(i)\n",
    "\n"
   ]
  },
  {
   "cell_type": "code",
   "execution_count": 17,
   "id": "6b1fac24-a43a-484e-9900-ec4aea0242d2",
   "metadata": {},
   "outputs": [
    {
     "data": {
      "text/plain": [
       "45"
      ]
     },
     "execution_count": 17,
     "metadata": {},
     "output_type": "execute_result"
    }
   ],
   "source": [
    "sum(sumvalue)"
   ]
  },
  {
   "cell_type": "code",
   "execution_count": null,
   "id": "a528d81c-7a06-4b8c-81aa-76e2c0ebe506",
   "metadata": {},
   "outputs": [],
   "source": []
  },
  {
   "cell_type": "code",
   "execution_count": null,
   "id": "88afb754-f54e-48fd-8b1f-0fe9615ce286",
   "metadata": {},
   "outputs": [],
   "source": []
  },
  {
   "cell_type": "code",
   "execution_count": null,
   "id": "8115de99-759f-4d24-b1e2-0b0373f45e24",
   "metadata": {},
   "outputs": [],
   "source": []
  }
 ],
 "metadata": {
  "kernelspec": {
   "display_name": "Python [conda env:base] *",
   "language": "python",
   "name": "conda-base-py"
  },
  "language_info": {
   "codemirror_mode": {
    "name": "ipython",
    "version": 3
   },
   "file_extension": ".py",
   "mimetype": "text/x-python",
   "name": "python",
   "nbconvert_exporter": "python",
   "pygments_lexer": "ipython3",
   "version": "3.12.7"
  }
 },
 "nbformat": 4,
 "nbformat_minor": 5
}
