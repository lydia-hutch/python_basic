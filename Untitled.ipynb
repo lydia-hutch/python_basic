{
 "cells": [
  {
   "cell_type": "code",
   "execution_count": 16,
   "id": "89cea9a6-f0e7-4c9a-9643-c2e6dd551fd2",
   "metadata": {},
   "outputs": [
    {
     "name": "stdout",
     "output_type": "stream",
     "text": [
      "The Game Name is Rock, Scissors, and Paper\n"
     ]
    }
   ],
   "source": [
    "import random, sys\n",
    "print(\"The Game Name is Rock, Scissors, and Paper\")"
   ]
  },
  {
   "cell_type": "code",
   "execution_count": 22,
   "id": "fb7acea3-ec08-42e9-98c0-528951c2754b",
   "metadata": {},
   "outputs": [],
   "source": [
    "wins = 0\n",
    "losses = 0\n",
    "ties = 0\n"
   ]
  },
  {
   "cell_type": "code",
   "execution_count": null,
   "id": "1cebbdc6-b4cf-4807-b303-256decc39bc3",
   "metadata": {},
   "outputs": [
    {
     "name": "stdout",
     "output_type": "stream",
     "text": [
      "wins 1, losses 6, ties 1\n",
      "Enter your movement: (r)ock (p)aper (s)cissors or (q) is quit\n"
     ]
    },
    {
     "name": "stdin",
     "output_type": "stream",
     "text": [
      " r\n"
     ]
    },
    {
     "name": "stdout",
     "output_type": "stream",
     "text": [
      "Rock\n",
      "versus\n",
      "Scissors\n",
      "You win!\n",
      "wins 2, losses 6, ties 1\n",
      "Enter your movement: (r)ock (p)aper (s)cissors or (q) is quit\n"
     ]
    }
   ],
   "source": [
    "while True: \n",
    "    print(f'wins {wins}, losses {losses}, ties {ties}')\n",
    "\n",
    "    print(\"Enter your movement: (r)ock (p)aper (s)cissors or (q) is quit\")\n",
    "    yourmove = input()\n",
    "    if yourmove =='q':\n",
    "        sys.exit()\n",
    "\n",
    "    if yourmove == 'r':\n",
    "        print(\"Rock\")\n",
    "    elif yourmove == 's':\n",
    "        print(\"Scissors\")\n",
    "    elif yourmove =='p':\n",
    "        print('Paper')\n",
    "\n",
    "    print('versus')\n",
    "\n",
    "    randomnum = random.randint(1,3)\n",
    "\n",
    "    if randomnum == 1:\n",
    "        computermove = 'r'\n",
    "        print('Rock')\n",
    "    elif randomnum == 2:\n",
    "        computermove = 's'\n",
    "        print('Scissors')\n",
    "    elif randomnum == 3:\n",
    "        computermove = 'p'\n",
    "        print('Paper')\n",
    "\n",
    "\n",
    "    if yourmove == computermove:\n",
    "        print(\"Tie\")\n",
    "        ties = ties + 1\n",
    "    elif yourmove == 'r' and computermove == 's' or \\\n",
    "        yourmove == 'p' and computermove == 'r' or \\\n",
    "        yourmove == 's' and computermove == 'p':\n",
    "        print(\"You win!\")\n",
    "        wins += 1\n",
    "    else:\n",
    "        print(\"You lose!\")\n",
    "        losses += 1\n",
    "\n",
    "    "
   ]
  },
  {
   "cell_type": "code",
   "execution_count": null,
   "id": "7d01a8b6-4994-4cfc-8d74-2893e29a5fab",
   "metadata": {},
   "outputs": [],
   "source": []
  },
  {
   "cell_type": "code",
   "execution_count": null,
   "id": "504f20a7-77e7-473a-85af-71d1dcfccf75",
   "metadata": {},
   "outputs": [],
   "source": []
  },
  {
   "cell_type": "code",
   "execution_count": null,
   "id": "43f3c8c5-9ecc-4c9c-b544-32bd007a2356",
   "metadata": {},
   "outputs": [],
   "source": []
  },
  {
   "cell_type": "code",
   "execution_count": null,
   "id": "891b8172-f753-4d3e-bc0e-553e712aa9fd",
   "metadata": {},
   "outputs": [],
   "source": []
  },
  {
   "cell_type": "code",
   "execution_count": null,
   "id": "a1c7a765-7a0e-43e2-8c2d-3cffce07b44b",
   "metadata": {},
   "outputs": [],
   "source": []
  },
  {
   "cell_type": "code",
   "execution_count": null,
   "id": "6b40d58d-3828-40df-bedc-2f0b1289fb6d",
   "metadata": {},
   "outputs": [],
   "source": []
  },
  {
   "cell_type": "code",
   "execution_count": null,
   "id": "dcc32905-d339-4cd5-8aef-2d2b6e5c14ac",
   "metadata": {},
   "outputs": [],
   "source": []
  },
  {
   "cell_type": "code",
   "execution_count": null,
   "id": "514d3485-eaee-4c23-8bda-02cc33106236",
   "metadata": {},
   "outputs": [],
   "source": []
  },
  {
   "cell_type": "code",
   "execution_count": null,
   "id": "4bbec1df-0a3f-45b5-b140-0672d8797dad",
   "metadata": {},
   "outputs": [],
   "source": []
  },
  {
   "cell_type": "code",
   "execution_count": null,
   "id": "5b7baed8-ea0d-4c90-9a87-6e3722e9f39c",
   "metadata": {},
   "outputs": [],
   "source": []
  },
  {
   "cell_type": "code",
   "execution_count": null,
   "id": "c1fc0bd0-921c-4037-9a14-c0105bc4aad5",
   "metadata": {},
   "outputs": [],
   "source": []
  },
  {
   "cell_type": "code",
   "execution_count": null,
   "id": "8996e5b3-d977-4141-bb8c-396cb8c88445",
   "metadata": {},
   "outputs": [],
   "source": []
  },
  {
   "cell_type": "code",
   "execution_count": null,
   "id": "47671885-cbe9-4189-aa4b-3f9426c96d8f",
   "metadata": {},
   "outputs": [],
   "source": []
  },
  {
   "cell_type": "code",
   "execution_count": null,
   "id": "389e10be-7024-4415-b161-26077682695e",
   "metadata": {},
   "outputs": [],
   "source": []
  },
  {
   "cell_type": "code",
   "execution_count": null,
   "id": "91b07ac6-42e5-4b6c-99a1-660d735a32c8",
   "metadata": {},
   "outputs": [],
   "source": []
  },
  {
   "cell_type": "code",
   "execution_count": null,
   "id": "c91be81f-1772-4ca7-93db-15087efddbde",
   "metadata": {},
   "outputs": [],
   "source": []
  },
  {
   "cell_type": "code",
   "execution_count": null,
   "id": "4bb0781b-a1d5-49ea-b332-e37dd0ec70f7",
   "metadata": {},
   "outputs": [],
   "source": []
  },
  {
   "cell_type": "code",
   "execution_count": null,
   "id": "2c683863-906b-4ce5-ae6c-23304b26418d",
   "metadata": {},
   "outputs": [],
   "source": []
  },
  {
   "cell_type": "code",
   "execution_count": null,
   "id": "350168ae-6cc7-4b1d-8870-675cab0cc06e",
   "metadata": {},
   "outputs": [],
   "source": []
  },
  {
   "cell_type": "code",
   "execution_count": null,
   "id": "933c5c10-3fff-4857-a75f-f2ba88755375",
   "metadata": {},
   "outputs": [],
   "source": []
  },
  {
   "cell_type": "code",
   "execution_count": null,
   "id": "7c145169-31bf-4902-9c53-057726023cf8",
   "metadata": {},
   "outputs": [],
   "source": []
  },
  {
   "cell_type": "code",
   "execution_count": null,
   "id": "a15c073c-6250-4886-9484-60697341b1d2",
   "metadata": {},
   "outputs": [],
   "source": []
  }
 ],
 "metadata": {
  "kernelspec": {
   "display_name": "Python [conda env:base] *",
   "language": "python",
   "name": "conda-base-py"
  },
  "language_info": {
   "codemirror_mode": {
    "name": "ipython",
    "version": 3
   },
   "file_extension": ".py",
   "mimetype": "text/x-python",
   "name": "python",
   "nbconvert_exporter": "python",
   "pygments_lexer": "ipython3",
   "version": "3.12.7"
  }
 },
 "nbformat": 4,
 "nbformat_minor": 5
}
