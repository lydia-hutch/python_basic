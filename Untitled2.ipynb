{
 "cells": [
  {
   "cell_type": "code",
   "execution_count": 3,
   "id": "6dc7cf79-3106-46da-9ed7-4de44f0594bf",
   "metadata": {},
   "outputs": [],
   "source": [
    "import pandas as pd\n",
    "data = pd.read_excel(r'C:\\Users\\lydia\\Downloads\\commerce_data.xlsx')"
   ]
  },
  {
   "cell_type": "code",
   "execution_count": 5,
   "id": "63e3591b-d0cf-4da8-a53c-fb9e649cf191",
   "metadata": {},
   "outputs": [
    {
     "data": {
      "text/html": [
       "<div>\n",
       "<style scoped>\n",
       "    .dataframe tbody tr th:only-of-type {\n",
       "        vertical-align: middle;\n",
       "    }\n",
       "\n",
       "    .dataframe tbody tr th {\n",
       "        vertical-align: top;\n",
       "    }\n",
       "\n",
       "    .dataframe thead th {\n",
       "        text-align: right;\n",
       "    }\n",
       "</style>\n",
       "<table border=\"1\" class=\"dataframe\">\n",
       "  <thead>\n",
       "    <tr style=\"text-align: right;\">\n",
       "      <th></th>\n",
       "      <th>product_price</th>\n",
       "      <th>discount</th>\n",
       "      <th>viewer</th>\n",
       "      <th>likes</th>\n",
       "      <th>sales</th>\n",
       "    </tr>\n",
       "  </thead>\n",
       "  <tbody>\n",
       "    <tr>\n",
       "      <th>0</th>\n",
       "      <td>11700</td>\n",
       "      <td>0.29</td>\n",
       "      <td>650000</td>\n",
       "      <td>180000</td>\n",
       "      <td>11700</td>\n",
       "    </tr>\n",
       "    <tr>\n",
       "      <th>1</th>\n",
       "      <td>17400</td>\n",
       "      <td>0.44</td>\n",
       "      <td>650000</td>\n",
       "      <td>180000</td>\n",
       "      <td>87000</td>\n",
       "    </tr>\n",
       "    <tr>\n",
       "      <th>2</th>\n",
       "      <td>14000</td>\n",
       "      <td>0.47</td>\n",
       "      <td>650000</td>\n",
       "      <td>180000</td>\n",
       "      <td>8540000</td>\n",
       "    </tr>\n",
       "    <tr>\n",
       "      <th>3</th>\n",
       "      <td>29100</td>\n",
       "      <td>0.29</td>\n",
       "      <td>410000</td>\n",
       "      <td>18000</td>\n",
       "      <td>5063400</td>\n",
       "    </tr>\n",
       "    <tr>\n",
       "      <th>4</th>\n",
       "      <td>32000</td>\n",
       "      <td>NaN</td>\n",
       "      <td>350000</td>\n",
       "      <td>15000</td>\n",
       "      <td>1024000</td>\n",
       "    </tr>\n",
       "    <tr>\n",
       "      <th>...</th>\n",
       "      <td>...</td>\n",
       "      <td>...</td>\n",
       "      <td>...</td>\n",
       "      <td>...</td>\n",
       "      <td>...</td>\n",
       "    </tr>\n",
       "    <tr>\n",
       "      <th>2898</th>\n",
       "      <td>1590</td>\n",
       "      <td>0.27</td>\n",
       "      <td>1271</td>\n",
       "      <td>4509</td>\n",
       "      <td>19080</td>\n",
       "    </tr>\n",
       "    <tr>\n",
       "      <th>2899</th>\n",
       "      <td>1390</td>\n",
       "      <td>0.26</td>\n",
       "      <td>1271</td>\n",
       "      <td>4509</td>\n",
       "      <td>31970</td>\n",
       "    </tr>\n",
       "    <tr>\n",
       "      <th>2900</th>\n",
       "      <td>1390</td>\n",
       "      <td>0.26</td>\n",
       "      <td>1271</td>\n",
       "      <td>4509</td>\n",
       "      <td>111200</td>\n",
       "    </tr>\n",
       "    <tr>\n",
       "      <th>2901</th>\n",
       "      <td>990</td>\n",
       "      <td>0.34</td>\n",
       "      <td>1271</td>\n",
       "      <td>4509</td>\n",
       "      <td>124740</td>\n",
       "    </tr>\n",
       "    <tr>\n",
       "      <th>2902</th>\n",
       "      <td>65000</td>\n",
       "      <td>NaN</td>\n",
       "      <td>1141</td>\n",
       "      <td>4155</td>\n",
       "      <td>195000</td>\n",
       "    </tr>\n",
       "  </tbody>\n",
       "</table>\n",
       "<p>2903 rows × 5 columns</p>\n",
       "</div>"
      ],
      "text/plain": [
       "      product_price  discount  viewer   likes    sales\n",
       "0             11700      0.29  650000  180000    11700\n",
       "1             17400      0.44  650000  180000    87000\n",
       "2             14000      0.47  650000  180000  8540000\n",
       "3             29100      0.29  410000   18000  5063400\n",
       "4             32000       NaN  350000   15000  1024000\n",
       "...             ...       ...     ...     ...      ...\n",
       "2898           1590      0.27    1271    4509    19080\n",
       "2899           1390      0.26    1271    4509    31970\n",
       "2900           1390      0.26    1271    4509   111200\n",
       "2901            990      0.34    1271    4509   124740\n",
       "2902          65000       NaN    1141    4155   195000\n",
       "\n",
       "[2903 rows x 5 columns]"
      ]
     },
     "execution_count": 5,
     "metadata": {},
     "output_type": "execute_result"
    }
   ],
   "source": [
    "data"
   ]
  },
  {
   "cell_type": "code",
   "execution_count": 7,
   "id": "8c459c79-4caa-46ef-9373-d41ec9793cac",
   "metadata": {},
   "outputs": [],
   "source": [
    "import seaborn as sn \n",
    "import matplotlib.pyplot as plt"
   ]
  },
  {
   "cell_type": "code",
   "execution_count": 9,
   "id": "7b306b22-36a1-4ef1-9334-3ba657a3fb08",
   "metadata": {},
   "outputs": [
    {
     "data": {
      "text/plain": [
       "<Axes: xlabel='product_price', ylabel='sales'>"
      ]
     },
     "execution_count": 9,
     "metadata": {},
     "output_type": "execute_result"
    },
    {
     "data": {
      "image/png": "[encoded data removed]",
      "text/plain": [
       "<Figure size 640x480 with 1 Axes>"
      ]
     },
     "metadata": {},
     "output_type": "display_data"
    }
   ],
   "source": [
    "sn.scatterplot(data = data, x='product_price', y='sales')"
   ]
  },
  {
   "cell_type": "code",
   "execution_count": null,
   "id": "1d6a859e-c513-41ad-9635-2fbb91fd007c",
   "metadata": {},
   "outputs": [],
   "source": []
  }
 ],
 "metadata": {
  "kernelspec": {
   "display_name": "Python [conda env:base] *",
   "language": "python",
   "name": "conda-base-py"
  },
  "language_info": {
   "codemirror_mode": {
    "name": "ipython",
    "version": 3
   },
   "file_extension": ".py",
   "mimetype": "text/x-python",
   "name": "python",
   "nbconvert_exporter": "python",
   "pygments_lexer": "ipython3",
   "version": "3.12.7"
  }
 },
 "nbformat": 4,
 "nbformat_minor": 5
}
