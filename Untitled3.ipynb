{
 "cells": [
  {
   "cell_type": "code",
   "execution_count": 4,
   "id": "55940fec-7cdb-430e-b90e-1b184adb9787",
   "metadata": {},
   "outputs": [],
   "source": [
    "def abc(x,y):\n",
    "    result = x + y\n",
    "    return result \n",
    "\n"
   ]
  },
  {
   "cell_type": "code",
   "execution_count": 6,
   "id": "286adfd9-2e12-4f45-a919-3bb3018da01e",
   "metadata": {},
   "outputs": [
    {
     "name": "stdout",
     "output_type": "stream",
     "text": [
      "30\n",
      "7\n",
      "15\n"
     ]
    }
   ],
   "source": [
    "print(abc(10,20))\n",
    "print(abc(3,4))\n",
    "print(abc(5,10))"
   ]
  },
  {
   "cell_type": "code",
   "execution_count": null,
   "id": "d239a2a7-376d-4bd9-81d6-4ee00ca09b33",
   "metadata": {},
   "outputs": [],
   "source": []
  }
 ],
 "metadata": {
  "kernelspec": {
   "display_name": "Python [conda env:base] *",
   "language": "python",
   "name": "conda-base-py"
  },
  "language_info": {
   "codemirror_mode": {
    "name": "ipython",
    "version": 3
   },
   "file_extension": ".py",
   "mimetype": "text/x-python",
   "name": "python",
   "nbconvert_exporter": "python",
   "pygments_lexer": "ipython3",
   "version": "3.12.7"
  }
 },
 "nbformat": 4,
 "nbformat_minor": 5
}
