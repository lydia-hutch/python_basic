{
 "cells": [
  {
   "cell_type": "code",
   "execution_count": 1,
   "id": "562aca28-4e69-4ed9-a728-fd468e1adb9f",
   "metadata": {},
   "outputs": [
    {
     "data": {
      "text/plain": [
       "2"
      ]
     },
     "execution_count": 1,
     "metadata": {},
     "output_type": "execute_result"
    }
   ],
   "source": [
    "2"
   ]
  },
  {
   "cell_type": "code",
   "execution_count": 5,
   "id": "d2ea5843-f3dd-4d71-b137-f23ee38160ab",
   "metadata": {},
   "outputs": [
    {
     "data": {
      "text/plain": [
       "'jang'"
      ]
     },
     "execution_count": 5,
     "metadata": {},
     "output_type": "execute_result"
    }
   ],
   "source": [
    "\"jang\""
   ]
  },
  {
   "cell_type": "code",
   "execution_count": 7,
   "id": "c5a7588d-3153-48bc-bc92-9de1d8fcd3cb",
   "metadata": {},
   "outputs": [
    {
     "name": "stdout",
     "output_type": "stream",
     "text": [
      "4\n",
      "4\n",
      "4\n",
      "1.0\n",
      "0\n",
      "-5\n"
     ]
    }
   ],
   "source": [
    "print(2+2)\n",
    "print(2*2)\n",
    "print(2**2)\n",
    "print(2/2)\n",
    "print(3//9)\n",
    "print(5-10)\n"
   ]
  },
  {
   "cell_type": "code",
   "execution_count": 17,
   "id": "61b4cd70-3bfa-4f11-9753-293fc0c5e46f",
   "metadata": {},
   "outputs": [],
   "source": [
    "python = 1"
   ]
  },
  {
   "cell_type": "code",
   "execution_count": 13,
   "id": "c5eb162d-47d7-475a-b470-6254847afadc",
   "metadata": {},
   "outputs": [
    {
     "data": {
      "text/plain": [
       "2"
      ]
     },
     "execution_count": 13,
     "metadata": {},
     "output_type": "execute_result"
    }
   ],
   "source": [
    "python + int('1')"
   ]
  },
  {
   "cell_type": "code",
   "execution_count": 21,
   "id": "b53a20ea-7e47-4161-89ad-ac3d0f47b4c6",
   "metadata": {},
   "outputs": [
    {
     "name": "stdout",
     "output_type": "stream",
     "text": [
      "Hello, World !\n",
      "what is your name?\n"
     ]
    },
    {
     "name": "stdin",
     "output_type": "stream",
     "text": [
      " llll\n"
     ]
    },
    {
     "name": "stdout",
     "output_type": "stream",
     "text": [
      "It is good to meet you, llll\n"
     ]
    }
   ],
   "source": [
    "print(\"Hello, World !\")\n",
    "print('what is your name?')\n",
    "myname = input()\n",
    "print(\"It is good to meet you, \" + myname)"
   ]
  },
  {
   "cell_type": "code",
   "execution_count": null,
   "id": "f8855e41-bb82-4583-a276-be8b3dbb47e2",
   "metadata": {},
   "outputs": [],
   "source": []
  },
  {
   "cell_type": "code",
   "execution_count": null,
   "id": "f6a1a70e-b40a-4af5-a091-42d96fd839c6",
   "metadata": {},
   "outputs": [],
   "source": []
  },
  {
   "cell_type": "code",
   "execution_count": null,
   "id": "51228bcf-92dd-4a8f-97ba-7a0ab21609f6",
   "metadata": {},
   "outputs": [],
   "source": []
  },
  {
   "cell_type": "code",
   "execution_count": null,
   "id": "417d5abf-4e08-446b-b692-3297aad42d2b",
   "metadata": {},
   "outputs": [],
   "source": []
  },
  {
   "cell_type": "code",
   "execution_count": null,
   "id": "f1a967b1-ec54-4b60-bbd1-1be38b41c6a3",
   "metadata": {},
   "outputs": [],
   "source": []
  }
 ],
 "metadata": {
  "kernelspec": {
   "display_name": "Python [conda env:base] *",
   "language": "python",
   "name": "conda-base-py"
  },
  "language_info": {
   "codemirror_mode": {
    "name": "ipython",
    "version": 3
   },
   "file_extension": ".py",
   "mimetype": "text/x-python",
   "name": "python",
   "nbconvert_exporter": "python",
   "pygments_lexer": "ipython3",
   "version": "3.12.7"
  }
 },
 "nbformat": 4,
 "nbformat_minor": 5
}
