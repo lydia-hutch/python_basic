{
 "cells": [
  {
   "cell_type": "code",
   "execution_count": 3,
   "id": "08a970a4-c94f-41c4-902a-bf6537ad324b",
   "metadata": {},
   "outputs": [
    {
     "data": {
      "text/plain": [
       "5"
      ]
     },
     "execution_count": 3,
     "metadata": {},
     "output_type": "execute_result"
    }
   ],
   "source": [
    "2+3"
   ]
  },
  {
   "cell_type": "code",
   "execution_count": 5,
   "id": "44077660-0a5d-49ff-9416-b569635ce3f0",
   "metadata": {},
   "outputs": [
    {
     "name": "stdout",
     "output_type": "stream",
     "text": [
      "4\n",
      "3\n"
     ]
    }
   ],
   "source": [
    "print(2+2)\n",
    "print(3)"
   ]
  },
  {
   "cell_type": "code",
   "execution_count": 7,
   "id": "0e3c89dc-8e45-4831-84c8-608df4e2bc07",
   "metadata": {},
   "outputs": [
    {
     "name": "stdout",
     "output_type": "stream",
     "text": [
      "Strong\n",
      "Strong\n"
     ]
    }
   ],
   "source": [
    "print('Strong')\n",
    "print(\"Strong\")"
   ]
  },
  {
   "cell_type": "code",
   "execution_count": 9,
   "id": "4f4e2c8f-09e8-4939-a817-c0eb34e3a4d7",
   "metadata": {},
   "outputs": [
    {
     "name": "stdout",
     "output_type": "stream",
     "text": [
      "21\n",
      "22\n",
      "23\n"
     ]
    }
   ],
   "source": [
    "spam = 20\n",
    "SPam = 20\n",
    "Spam = 20\n",
    "print(spam + 1)\n",
    "print(SPam + 2)\n",
    "print(Spam + 3)"
   ]
  },
  {
   "cell_type": "code",
   "execution_count": 11,
   "id": "79a49f8d-e48e-4837-a790-8be47c9dd119",
   "metadata": {},
   "outputs": [
    {
     "ename": "TypeError",
     "evalue": "can only concatenate str (not \"int\") to str",
     "output_type": "error",
     "traceback": [
      "\u001b[1;31m---------------------------------------------------------------------------\u001b[0m",
      "\u001b[1;31mTypeError\u001b[0m                                 Traceback (most recent call last)",
      "Cell \u001b[1;32mIn[11], line 1\u001b[0m\n\u001b[1;32m----> 1\u001b[0m \u001b[38;5;124m\"\u001b[39m\u001b[38;5;124mString\u001b[39m\u001b[38;5;124m\"\u001b[39m \u001b[38;5;241m+\u001b[39m \u001b[38;5;241m3\u001b[39m\n",
      "\u001b[1;31mTypeError\u001b[0m: can only concatenate str (not \"int\") to str"
     ]
    }
   ],
   "source": [
    "\"String\" + 3"
   ]
  },
  {
   "cell_type": "code",
   "execution_count": 13,
   "id": "1eb0ed05-675a-4a65-ad46-29aace9d5001",
   "metadata": {},
   "outputs": [
    {
     "name": "stdout",
     "output_type": "stream",
     "text": [
      "True\n",
      "True\n",
      "False\n"
     ]
    }
   ],
   "source": [
    "print(42 == 42)\n",
    "print(42 != '42')\n",
    "print(42 == '42')"
   ]
  },
  {
   "cell_type": "code",
   "execution_count": 15,
   "id": "5f19ee8f-0c9a-476d-8bdd-63279d22a63c",
   "metadata": {},
   "outputs": [
    {
     "name": "stdout",
     "output_type": "stream",
     "text": [
      "Hello, World !\n",
      "what is your name?\n"
     ]
    },
    {
     "name": "stdin",
     "output_type": "stream",
     "text": [
      " 100\n"
     ]
    },
    {
     "name": "stdout",
     "output_type": "stream",
     "text": [
      "It is good to meet you, 100\n"
     ]
    }
   ],
   "source": [
    "print(\"Hello, World !\")\n",
    "print('what is your name?')\n",
    "myname = input()\n",
    "print(\"It is good to meet you, \" + myname)"
   ]
  },
  {
   "cell_type": "code",
   "execution_count": 17,
   "id": "c701f3d9-73b3-4f13-9a79-2e51c067c861",
   "metadata": {},
   "outputs": [
    {
     "name": "stdout",
     "output_type": "stream",
     "text": [
      "Hello, World !\n",
      "what is your name?\n"
     ]
    },
    {
     "name": "stdin",
     "output_type": "stream",
     "text": [
      " 100\n"
     ]
    },
    {
     "ename": "TypeError",
     "evalue": "can only concatenate str (not \"int\") to str",
     "output_type": "error",
     "traceback": [
      "\u001b[1;31m---------------------------------------------------------------------------\u001b[0m",
      "\u001b[1;31mTypeError\u001b[0m                                 Traceback (most recent call last)",
      "Cell \u001b[1;32mIn[17], line 4\u001b[0m\n\u001b[0;32m      2\u001b[0m \u001b[38;5;28mprint\u001b[39m(\u001b[38;5;124m'\u001b[39m\u001b[38;5;124mwhat is your name?\u001b[39m\u001b[38;5;124m'\u001b[39m)\n\u001b[0;32m      3\u001b[0m myname \u001b[38;5;241m=\u001b[39m \u001b[38;5;28minput\u001b[39m()\n\u001b[1;32m----> 4\u001b[0m \u001b[38;5;28mprint\u001b[39m(\u001b[38;5;124m\"\u001b[39m\u001b[38;5;124mIt is good to meet you, \u001b[39m\u001b[38;5;124m\"\u001b[39m \u001b[38;5;241m+\u001b[39m \u001b[38;5;28mint\u001b[39m(myname))\n",
      "\u001b[1;31mTypeError\u001b[0m: can only concatenate str (not \"int\") to str"
     ]
    }
   ],
   "source": [
    "print(\"Hello, World !\")\n",
    "print('what is your name?')\n",
    "myname = input()\n",
    "print(\"It is good to meet you, \" + int(myname))"
   ]
  },
  {
   "cell_type": "code",
   "execution_count": 18,
   "id": "ad7b1be5-ac2f-4385-99ee-c8bc6c83f7ee",
   "metadata": {},
   "outputs": [
    {
     "ename": "SyntaxError",
     "evalue": "invalid syntax (527293995.py, line 5)",
     "output_type": "error",
     "traceback": [
      "\u001b[1;36m  Cell \u001b[1;32mIn[18], line 5\u001b[1;36m\u001b[0m\n\u001b[1;33m    if ID == 'apple';\u001b[0m\n\u001b[1;37m                    ^\u001b[0m\n\u001b[1;31mSyntaxError\u001b[0m\u001b[1;31m:\u001b[0m invalid syntax\n"
     ]
    }
   ],
   "source": [
    "ID = 'apple'\n",
    "Password = input()\n",
    "print(\"Enter your password\")\n",
    "\n",
    "if ID == 'apple';\n",
    "    print('ID is correct')\n",
    "    if Password = 'apple1':\n",
    "        print(\"Password is correct\")\n",
    "else:\n",
    "    print(\"Password is not correct\")"
   ]
  },
  {
   "cell_type": "code",
   "execution_count": 20,
   "id": "7c914954-31a5-41ee-b3ac-074f90fb7b69",
   "metadata": {},
   "outputs": [
    {
     "name": "stdin",
     "output_type": "stream",
     "text": [
      "Enter your score:  100\n"
     ]
    },
    {
     "name": "stdout",
     "output_type": "stream",
     "text": [
      "Your grade is A\n"
     ]
    }
   ],
   "source": [
    "# Now else if\n",
    "score = input('Enter your score: ')\n",
    "letter = '0'\n",
    "\n",
    "score = int(score)\n",
    "\n",
    "if score >= 90:\n",
    "    letter = 'A'\n",
    "elif score >= 80:\n",
    "    letter = 'B'\n",
    "elif score >= 70:\n",
    "    letter = 'C'\n",
    "elif score >= 60:\n",
    "    letter = 'D'\n",
    "else:\n",
    "    letter = 'F'\n",
    "\n",
    "print('Your grade is ' + letter)"
   ]
  },
  {
   "cell_type": "code",
   "execution_count": null,
   "id": "531001e7-10d7-4ce1-83f5-c9dfce9524c7",
   "metadata": {},
   "outputs": [],
   "source": []
  }
 ],
 "metadata": {
  "kernelspec": {
   "display_name": "Python [conda env:base] *",
   "language": "python",
   "name": "conda-base-py"
  },
  "language_info": {
   "codemirror_mode": {
    "name": "ipython",
    "version": 3
   },
   "file_extension": ".py",
   "mimetype": "text/x-python",
   "name": "python",
   "nbconvert_exporter": "python",
   "pygments_lexer": "ipython3",
   "version": "3.12.7"
  }
 },
 "nbformat": 4,
 "nbformat_minor": 5
}
